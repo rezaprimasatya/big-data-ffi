{
 "cells": [
  {
   "cell_type": "code",
   "execution_count": 1,
   "metadata": {},
   "outputs": [],
   "source": [
    "import findspark"
   ]
  },
  {
   "cell_type": "code",
   "execution_count": 2,
   "metadata": {},
   "outputs": [],
   "source": [
    "findspark.init('/home/ubuntu/spark-2.1.1-bin-hadoop2.7/')"
   ]
  },
  {
   "cell_type": "code",
   "execution_count": 3,
   "metadata": {},
   "outputs": [],
   "source": [
    "import pyspark"
   ]
  },
  {
   "cell_type": "code",
   "execution_count": 4,
   "metadata": {},
   "outputs": [],
   "source": [
    "from pyspark.sql import SparkSession"
   ]
  },
  {
   "cell_type": "code",
   "execution_count": 6,
   "metadata": {},
   "outputs": [],
   "source": [
    "spark = SparkSession.builder.appName('my_tree').getOrCreate()"
   ]
  },
  {
   "cell_type": "code",
   "execution_count": 7,
   "metadata": {},
   "outputs": [],
   "source": [
    "from pyspark.ml import Pipeline"
   ]
  },
  {
   "cell_type": "code",
   "execution_count": 8,
   "metadata": {},
   "outputs": [],
   "source": [
    "from pyspark.ml.classification import (RandomForestClassifier,GBTClassifier,\n",
    "                                       DecisionTreeClassifier)"
   ]
  },
  {
   "cell_type": "code",
   "execution_count": 10,
   "metadata": {},
   "outputs": [],
   "source": [
    "## For regression model you can import\n",
    "from pyspark.ml.regression import RandomForestRegressor"
   ]
  },
  {
   "cell_type": "markdown",
   "metadata": {},
   "source": [
    "##### But we are only focus on Classifaction here."
   ]
  },
  {
   "cell_type": "code",
   "execution_count": 11,
   "metadata": {},
   "outputs": [],
   "source": [
    "data = spark.read.format('libsvm').load('sample_libsvm_data.txt')"
   ]
  },
  {
   "cell_type": "code",
   "execution_count": 12,
   "metadata": {},
   "outputs": [
    {
     "name": "stdout",
     "output_type": "stream",
     "text": [
      "+-----+--------------------+\n",
      "|label|            features|\n",
      "+-----+--------------------+\n",
      "|  0.0|(692,[127,128,129...|\n",
      "|  1.0|(692,[158,159,160...|\n",
      "|  1.0|(692,[124,125,126...|\n",
      "|  1.0|(692,[152,153,154...|\n",
      "|  1.0|(692,[151,152,153...|\n",
      "|  0.0|(692,[129,130,131...|\n",
      "|  1.0|(692,[158,159,160...|\n",
      "|  1.0|(692,[99,100,101,...|\n",
      "|  0.0|(692,[154,155,156...|\n",
      "|  0.0|(692,[127,128,129...|\n",
      "|  1.0|(692,[154,155,156...|\n",
      "|  0.0|(692,[153,154,155...|\n",
      "|  0.0|(692,[151,152,153...|\n",
      "|  1.0|(692,[129,130,131...|\n",
      "|  0.0|(692,[154,155,156...|\n",
      "|  1.0|(692,[150,151,152...|\n",
      "|  0.0|(692,[124,125,126...|\n",
      "|  0.0|(692,[152,153,154...|\n",
      "|  1.0|(692,[97,98,99,12...|\n",
      "|  1.0|(692,[124,125,126...|\n",
      "+-----+--------------------+\n",
      "only showing top 20 rows\n",
      "\n"
     ]
    }
   ],
   "source": [
    "data.show()"
   ]
  },
  {
   "cell_type": "code",
   "execution_count": 13,
   "metadata": {},
   "outputs": [],
   "source": [
    "## lets split \n",
    "train_data, test_data = data.randomSplit([0.7,0.3])"
   ]
  },
  {
   "cell_type": "code",
   "execution_count": 15,
   "metadata": {},
   "outputs": [],
   "source": [
    "## using basic decision Tree Classifier\n",
    "dtc = DecisionTreeClassifier()\n",
    "## using basic decision Tree Classifier, too many tree is also not good for accuracy, so find the cutoff point\n",
    "rfc = RandomForestClassifier(numTrees=100)\n",
    "## gradientboost\n",
    "gbt = GBTClassifier()"
   ]
  },
  {
   "cell_type": "code",
   "execution_count": 17,
   "metadata": {},
   "outputs": [],
   "source": [
    "##Fitting\n",
    "dtc_model = dtc.fit(train_data)\n",
    "rfc_model = rfc.fit(train_data)\n",
    "gbt_model = gbt.fit(train_data)"
   ]
  },
  {
   "cell_type": "code",
   "execution_count": 18,
   "metadata": {},
   "outputs": [],
   "source": [
    "dtc_preds = dtc_model.transform(test_data)\n",
    "rfc_preds = rfc_model.transform(test_data)\n",
    "gbt_preds = gbt_model.transform(test_data)"
   ]
  },
  {
   "cell_type": "code",
   "execution_count": 20,
   "metadata": {},
   "outputs": [
    {
     "name": "stdout",
     "output_type": "stream",
     "text": [
      "+-----+--------------------+-------------+-----------+----------+\n",
      "|label|            features|rawPrediction|probability|prediction|\n",
      "+-----+--------------------+-------------+-----------+----------+\n",
      "|  0.0|(692,[122,123,148...|   [26.0,0.0]|  [1.0,0.0]|       0.0|\n",
      "|  0.0|(692,[123,124,125...|   [26.0,0.0]|  [1.0,0.0]|       0.0|\n",
      "|  0.0|(692,[124,125,126...|   [26.0,0.0]|  [1.0,0.0]|       0.0|\n",
      "|  0.0|(692,[124,125,126...|   [26.0,0.0]|  [1.0,0.0]|       0.0|\n",
      "|  0.0|(692,[124,125,126...|   [26.0,0.0]|  [1.0,0.0]|       0.0|\n",
      "|  0.0|(692,[124,125,126...|   [26.0,0.0]|  [1.0,0.0]|       0.0|\n",
      "|  0.0|(692,[124,125,126...|   [26.0,0.0]|  [1.0,0.0]|       0.0|\n",
      "|  0.0|(692,[126,127,128...|   [26.0,0.0]|  [1.0,0.0]|       0.0|\n",
      "|  0.0|(692,[151,152,153...|   [26.0,0.0]|  [1.0,0.0]|       0.0|\n",
      "|  0.0|(692,[152,153,154...|   [26.0,0.0]|  [1.0,0.0]|       0.0|\n",
      "|  0.0|(692,[152,153,154...|   [26.0,0.0]|  [1.0,0.0]|       0.0|\n",
      "|  0.0|(692,[152,153,154...|   [26.0,0.0]|  [1.0,0.0]|       0.0|\n",
      "|  0.0|(692,[153,154,155...|   [26.0,0.0]|  [1.0,0.0]|       0.0|\n",
      "|  0.0|(692,[154,155,156...|   [26.0,0.0]|  [1.0,0.0]|       0.0|\n",
      "|  0.0|(692,[154,155,156...|   [0.0,46.0]|  [0.0,1.0]|       1.0|\n",
      "|  0.0|(692,[154,155,156...|   [0.0,46.0]|  [0.0,1.0]|       1.0|\n",
      "|  0.0|(692,[181,182,183...|   [26.0,0.0]|  [1.0,0.0]|       0.0|\n",
      "|  1.0|(692,[125,126,153...|   [0.0,46.0]|  [0.0,1.0]|       1.0|\n",
      "|  1.0|(692,[126,127,128...|   [0.0,46.0]|  [0.0,1.0]|       1.0|\n",
      "|  1.0|(692,[128,129,130...|   [0.0,46.0]|  [0.0,1.0]|       1.0|\n",
      "+-----+--------------------+-------------+-----------+----------+\n",
      "only showing top 20 rows\n",
      "\n"
     ]
    }
   ],
   "source": [
    "dtc_preds.show()"
   ]
  },
  {
   "cell_type": "code",
   "execution_count": 21,
   "metadata": {},
   "outputs": [
    {
     "name": "stdout",
     "output_type": "stream",
     "text": [
      "+-----+--------------------+----------+\n",
      "|label|            features|prediction|\n",
      "+-----+--------------------+----------+\n",
      "|  0.0|(692,[122,123,148...|       0.0|\n",
      "|  0.0|(692,[123,124,125...|       0.0|\n",
      "|  0.0|(692,[124,125,126...|       0.0|\n",
      "|  0.0|(692,[124,125,126...|       0.0|\n",
      "|  0.0|(692,[124,125,126...|       0.0|\n",
      "|  0.0|(692,[124,125,126...|       0.0|\n",
      "|  0.0|(692,[124,125,126...|       0.0|\n",
      "|  0.0|(692,[126,127,128...|       0.0|\n",
      "|  0.0|(692,[151,152,153...|       0.0|\n",
      "|  0.0|(692,[152,153,154...|       0.0|\n",
      "|  0.0|(692,[152,153,154...|       0.0|\n",
      "|  0.0|(692,[152,153,154...|       0.0|\n",
      "|  0.0|(692,[153,154,155...|       0.0|\n",
      "|  0.0|(692,[154,155,156...|       0.0|\n",
      "|  0.0|(692,[154,155,156...|       1.0|\n",
      "|  0.0|(692,[154,155,156...|       1.0|\n",
      "|  0.0|(692,[181,182,183...|       0.0|\n",
      "|  1.0|(692,[125,126,153...|       1.0|\n",
      "|  1.0|(692,[126,127,128...|       1.0|\n",
      "|  1.0|(692,[128,129,130...|       1.0|\n",
      "+-----+--------------------+----------+\n",
      "only showing top 20 rows\n",
      "\n"
     ]
    }
   ],
   "source": [
    "gbt_preds.show()"
   ]
  },
  {
   "cell_type": "code",
   "execution_count": 22,
   "metadata": {},
   "outputs": [
    {
     "name": "stdout",
     "output_type": "stream",
     "text": [
      "+-----+--------------------+-------------+-----------+----------+\n",
      "|label|            features|rawPrediction|probability|prediction|\n",
      "+-----+--------------------+-------------+-----------+----------+\n",
      "|  0.0|(692,[122,123,148...|  [88.0,12.0]|[0.88,0.12]|       0.0|\n",
      "|  0.0|(692,[123,124,125...|  [100.0,0.0]|  [1.0,0.0]|       0.0|\n",
      "|  0.0|(692,[124,125,126...|   [97.0,3.0]|[0.97,0.03]|       0.0|\n",
      "|  0.0|(692,[124,125,126...|   [98.0,2.0]|[0.98,0.02]|       0.0|\n",
      "|  0.0|(692,[124,125,126...|  [78.0,22.0]|[0.78,0.22]|       0.0|\n",
      "|  0.0|(692,[124,125,126...|   [98.0,2.0]|[0.98,0.02]|       0.0|\n",
      "|  0.0|(692,[124,125,126...|   [98.0,2.0]|[0.98,0.02]|       0.0|\n",
      "|  0.0|(692,[126,127,128...|   [98.0,2.0]|[0.98,0.02]|       0.0|\n",
      "|  0.0|(692,[151,152,153...|   [96.0,4.0]|[0.96,0.04]|       0.0|\n",
      "|  0.0|(692,[152,153,154...|   [94.0,6.0]|[0.94,0.06]|       0.0|\n",
      "|  0.0|(692,[152,153,154...|   [91.0,9.0]|[0.91,0.09]|       0.0|\n",
      "|  0.0|(692,[152,153,154...|  [85.0,15.0]|[0.85,0.15]|       0.0|\n",
      "|  0.0|(692,[153,154,155...|   [97.0,3.0]|[0.97,0.03]|       0.0|\n",
      "|  0.0|(692,[154,155,156...|  [84.0,16.0]|[0.84,0.16]|       0.0|\n",
      "|  0.0|(692,[154,155,156...|  [51.0,49.0]|[0.51,0.49]|       0.0|\n",
      "|  0.0|(692,[154,155,156...|  [71.0,29.0]|[0.71,0.29]|       0.0|\n",
      "|  0.0|(692,[181,182,183...|  [89.0,11.0]|[0.89,0.11]|       0.0|\n",
      "|  1.0|(692,[125,126,153...|   [1.0,99.0]|[0.01,0.99]|       1.0|\n",
      "|  1.0|(692,[126,127,128...|  [0.0,100.0]|  [0.0,1.0]|       1.0|\n",
      "|  1.0|(692,[128,129,130...|   [1.0,99.0]|[0.01,0.99]|       1.0|\n",
      "+-----+--------------------+-------------+-----------+----------+\n",
      "only showing top 20 rows\n",
      "\n"
     ]
    }
   ],
   "source": [
    "rfc_preds.show()"
   ]
  },
  {
   "cell_type": "code",
   "execution_count": 24,
   "metadata": {},
   "outputs": [],
   "source": [
    "from pyspark.ml.evaluation import MulticlassClassificationEvaluator"
   ]
  },
  {
   "cell_type": "code",
   "execution_count": 25,
   "metadata": {},
   "outputs": [],
   "source": [
    "#Lets check the accuracy here\n",
    "acc_eval = MulticlassClassificationEvaluator(metricName='accuracy')"
   ]
  },
  {
   "cell_type": "code",
   "execution_count": 27,
   "metadata": {},
   "outputs": [
    {
     "name": "stdout",
     "output_type": "stream",
     "text": [
      "DTC ACCURACY\n"
     ]
    },
    {
     "data": {
      "text/plain": [
       "0.9285714285714286"
      ]
     },
     "execution_count": 27,
     "metadata": {},
     "output_type": "execute_result"
    }
   ],
   "source": [
    "print('DTC ACCURACY')\n",
    "acc_eval.evaluate(dtc_preds)"
   ]
  },
  {
   "cell_type": "code",
   "execution_count": 28,
   "metadata": {},
   "outputs": [
    {
     "name": "stdout",
     "output_type": "stream",
     "text": [
      "RFC ACCURACY\n"
     ]
    },
    {
     "data": {
      "text/plain": [
       "1.0"
      ]
     },
     "execution_count": 28,
     "metadata": {},
     "output_type": "execute_result"
    }
   ],
   "source": [
    "print('RFC ACCURACY')\n",
    "acc_eval.evaluate(rfc_preds)"
   ]
  },
  {
   "cell_type": "code",
   "execution_count": 29,
   "metadata": {},
   "outputs": [
    {
     "name": "stdout",
     "output_type": "stream",
     "text": [
      "GBT ACCURACY\n"
     ]
    },
    {
     "data": {
      "text/plain": [
       "0.9285714285714286"
      ]
     },
     "execution_count": 29,
     "metadata": {},
     "output_type": "execute_result"
    }
   ],
   "source": [
    "print('GBT ACCURACY')\n",
    "acc_eval.evaluate(gbt_preds)"
   ]
  },
  {
   "cell_type": "code",
   "execution_count": 30,
   "metadata": {},
   "outputs": [
    {
     "data": {
      "text/plain": [
       "SparseVector(692, {131: 0.0006, 150: 0.0006, 151: 0.0007, 162: 0.0007, 183: 0.0004, 186: 0.0006, 189: 0.0004, 202: 0.0005, 208: 0.0059, 209: 0.0024, 211: 0.0004, 215: 0.0006, 231: 0.0022, 234: 0.0072, 235: 0.0007, 239: 0.0012, 240: 0.0003, 244: 0.0013, 245: 0.0068, 246: 0.0016, 262: 0.0229, 263: 0.0064, 267: 0.0005, 268: 0.0004, 271: 0.0138, 272: 0.0064, 273: 0.0007, 286: 0.002, 291: 0.0062, 294: 0.0023, 299: 0.0011, 300: 0.0143, 301: 0.0067, 316: 0.0004, 317: 0.0376, 318: 0.0034, 323: 0.0157, 326: 0.0006, 327: 0.0022, 328: 0.0069, 330: 0.0082, 331: 0.007, 344: 0.0119, 347: 0.001, 350: 0.0114, 351: 0.0109, 358: 0.0079, 371: 0.0015, 372: 0.0069, 373: 0.012, 375: 0.0009, 377: 0.0177, 378: 0.0344, 379: 0.0129, 381: 0.0009, 382: 0.0011, 383: 0.001, 384: 0.017, 385: 0.0071, 386: 0.0147, 388: 0.0011, 399: 0.0073, 400: 0.0158, 401: 0.0016, 405: 0.0662, 406: 0.0348, 407: 0.0382, 408: 0.0008, 409: 0.0005, 411: 0.0006, 412: 0.0077, 415: 0.0006, 426: 0.0064, 427: 0.0183, 428: 0.0085, 429: 0.0006, 431: 0.0006, 433: 0.011, 434: 0.0228, 435: 0.0102, 437: 0.0009, 440: 0.0024, 441: 0.0076, 442: 0.0019, 443: 0.0005, 444: 0.0012, 455: 0.0325, 456: 0.0158, 458: 0.0038, 462: 0.0292, 463: 0.011, 464: 0.0021, 467: 0.0021, 468: 0.0073, 469: 0.0007, 470: 0.0022, 471: 0.0023, 483: 0.0176, 484: 0.0083, 485: 0.0008, 489: 0.0241, 490: 0.0163, 493: 0.0013, 495: 0.0003, 498: 0.0017, 499: 0.0005, 510: 0.0029, 511: 0.0577, 512: 0.0088, 516: 0.0065, 517: 0.0344, 518: 0.0034, 519: 0.0011, 521: 0.0054, 522: 0.002, 523: 0.0011, 539: 0.0006, 540: 0.0183, 542: 0.0009, 544: 0.0006, 545: 0.0021, 547: 0.0008, 549: 0.001, 550: 0.002, 564: 0.0017, 568: 0.0094, 573: 0.0003, 583: 0.0012, 594: 0.0024, 596: 0.0081, 602: 0.0013, 604: 0.0001, 606: 0.0007, 628: 0.0006, 635: 0.0011, 682: 0.0024, 685: 0.0012})"
      ]
     },
     "execution_count": 30,
     "metadata": {},
     "output_type": "execute_result"
    }
   ],
   "source": [
    "rfc_model.featureImportances"
   ]
  },
  {
   "cell_type": "code",
   "execution_count": null,
   "metadata": {},
   "outputs": [],
   "source": []
  }
 ],
 "metadata": {
  "kernelspec": {
   "display_name": "Python 3",
   "language": "python",
   "name": "python3"
  },
  "language_info": {
   "codemirror_mode": {
    "name": "ipython",
    "version": 3
   },
   "file_extension": ".py",
   "mimetype": "text/x-python",
   "name": "python",
   "nbconvert_exporter": "python",
   "pygments_lexer": "ipython3",
   "version": "3.6.8"
  }
 },
 "nbformat": 4,
 "nbformat_minor": 2
}
