{
  "nbformat": 4,
  "nbformat_minor": 0,
  "metadata": {
    "colab": {
      "name": "Challange_16_analysis.ipynb",
      "provenance": [],
      "collapsed_sections": [],
      "authorship_tag": "ABX9TyNR1RbWRfY28sALVE6l9FTO",
      "include_colab_link": true
    },
    "kernelspec": {
      "name": "python3",
      "display_name": "Python 3"
    }
  },
  "cells": [
    {
      "cell_type": "markdown",
      "metadata": {
        "id": "view-in-github",
        "colab_type": "text"
      },
      "source": [
        "<a href=\"https://colab.research.google.com/github/HunterWelsch/BigData-AWS-RDS/blob/master/Challange_16_analysis.ipynb\" target=\"_parent\"><img src=\"https://colab.research.google.com/assets/colab-badge.svg\" alt=\"Open In Colab\"/></a>"
      ]
    },
    {
      "cell_type": "code",
      "metadata": {
        "id": "lBnOz02agzsz",
        "colab_type": "code",
        "colab": {}
      },
      "source": [
        "# Install Java, Spark, and Findspark\n",
        "!apt-get install openjdk-8-jdk-headless -qq > /dev/null\n",
        "!wget -q http://www-us.apache.org/dist/spark/spark-2.4.5/spark-2.4.5-bin-hadoop2.7.tgz\n",
        "!tar xf spark-2.4.5-bin-hadoop2.7.tgz\n",
        "!pip install -q findspark\n",
        "# Set Environment Variables\n",
        "import os\n",
        "os.environ[\"JAVA_HOME\"] = \"/usr/lib/jvm/java-8-openjdk-amd64\"\n",
        "os.environ[\"SPARK_HOME\"] = \"/content/spark-2.4.5-bin-hadoop2.7\"\n",
        "# Start a SparkSession\n",
        "import findspark\n",
        "findspark.init()"
      ],
      "execution_count": 0,
      "outputs": []
    },
    {
      "cell_type": "code",
      "metadata": {
        "id": "nsmEuljWApYL",
        "colab_type": "code",
        "outputId": "6cf287c6-534e-4954-9fe6-0027642de6ca",
        "colab": {
          "base_uri": "https://localhost:8080/",
          "height": 204
        }
      },
      "source": [
        "!wget https://jdbc.postgresql.org/download/postgresql-42.2.9.jar"
      ],
      "execution_count": 0,
      "outputs": [
        {
          "output_type": "stream",
          "text": [
            "--2020-02-21 04:46:00--  https://jdbc.postgresql.org/download/postgresql-42.2.9.jar\n",
            "Resolving jdbc.postgresql.org (jdbc.postgresql.org)... 72.32.157.228, 2001:4800:3e1:1::228\n",
            "Connecting to jdbc.postgresql.org (jdbc.postgresql.org)|72.32.157.228|:443... connected.\n",
            "HTTP request sent, awaiting response... 200 OK\n",
            "Length: 914037 (893K) [application/java-archive]\n",
            "Saving to: ‘postgresql-42.2.9.jar’\n",
            "\n",
            "\rpostgresql-42.2.9.j   0%[                    ]       0  --.-KB/s               \rpostgresql-42.2.9.j  70%[=============>      ] 632.00K  2.94MB/s               \rpostgresql-42.2.9.j 100%[===================>] 892.61K  3.69MB/s    in 0.2s    \n",
            "\n",
            "2020-02-21 04:46:00 (3.69 MB/s) - ‘postgresql-42.2.9.jar’ saved [914037/914037]\n",
            "\n"
          ],
          "name": "stdout"
        }
      ]
    },
    {
      "cell_type": "code",
      "metadata": {
        "id": "TAe6CzX_Aq7p",
        "colab_type": "code",
        "outputId": "d749dccb-ef22-4e1b-e452-fc869cc5b4d3",
        "colab": {
          "base_uri": "https://localhost:8080/",
          "height": 238
        }
      },
      "source": [
        "!pip install pyspark"
      ],
      "execution_count": 0,
      "outputs": [
        {
          "output_type": "stream",
          "text": [
            "Collecting pyspark\n",
            "\u001b[?25l  Downloading https://files.pythonhosted.org/packages/9a/5a/271c416c1c2185b6cb0151b29a91fff6fcaed80173c8584ff6d20e46b465/pyspark-2.4.5.tar.gz (217.8MB)\n",
            "\u001b[K     |████████████████████████████████| 217.8MB 59kB/s \n",
            "\u001b[?25hCollecting py4j==0.10.7\n",
            "\u001b[?25l  Downloading https://files.pythonhosted.org/packages/e3/53/c737818eb9a7dc32a7cd4f1396e787bd94200c3997c72c1dbe028587bd76/py4j-0.10.7-py2.py3-none-any.whl (197kB)\n",
            "\u001b[K     |████████████████████████████████| 204kB 51.0MB/s \n",
            "\u001b[?25hBuilding wheels for collected packages: pyspark\n",
            "  Building wheel for pyspark (setup.py) ... \u001b[?25l\u001b[?25hdone\n",
            "  Created wheel for pyspark: filename=pyspark-2.4.5-py2.py3-none-any.whl size=218257927 sha256=5c08c82d97e0ec4d4a5c2d221752ffc2888b52d0267a41229ddee0411d3bc031\n",
            "  Stored in directory: /root/.cache/pip/wheels/bf/db/04/61d66a5939364e756eb1c1be4ec5bdce6e04047fc7929a3c3c\n",
            "Successfully built pyspark\n",
            "Installing collected packages: py4j, pyspark\n",
            "Successfully installed py4j-0.10.7 pyspark-2.4.5\n"
          ],
          "name": "stdout"
        }
      ]
    },
    {
      "cell_type": "code",
      "metadata": {
        "id": "5GMh5_NcAtk7",
        "colab_type": "code",
        "colab": {}
      },
      "source": [
        "from pyspark.sql import SparkSession\n",
        "spark = SparkSession.builder.appName(\"BigDataHW\").config(\"spark.driver.extraClassPath\",\"/content/postgresql-42.2.9.jar\").getOrCreate()"
      ],
      "execution_count": 0,
      "outputs": []
    },
    {
      "cell_type": "code",
      "metadata": {
        "id": "O-RFdd8lAvU8",
        "colab_type": "code",
        "outputId": "d541c4ec-d676-4747-e85b-b06abb27f637",
        "colab": {
          "base_uri": "https://localhost:8080/",
          "height": 479
        }
      },
      "source": [
        "# Read in data from S3 Buckets\n",
        "from pyspark import SparkFiles\n",
        "url = \"https://s3.amazonaws.com/amazon-reviews-pds/tsv/amazon_reviews_us_Electronics_v1_00.tsv.gz\"\n",
        "spark.sparkContext.addFile(url)\n",
        "e_data_df = spark.read.csv(SparkFiles.get(\"amazon_reviews_us_Electronics_v1_00.tsv.gz\"), sep=\"\\t\", header=True)\n",
        "e_data_df.show()"
      ],
      "execution_count": 0,
      "outputs": [
        {
          "output_type": "stream",
          "text": [
            "+-----------+-----------+--------------+----------+--------------+--------------------+----------------+-----------+-------------+-----------+----+-----------------+--------------------+--------------------+-----------+\n",
            "|marketplace|customer_id|     review_id|product_id|product_parent|       product_title|product_category|star_rating|helpful_votes|total_votes|vine|verified_purchase|     review_headline|         review_body|review_date|\n",
            "+-----------+-----------+--------------+----------+--------------+--------------------+----------------+-----------+-------------+-----------+----+-----------------+--------------------+--------------------+-----------+\n",
            "|         US|   41409413|R2MTG1GCZLR2DK|B00428R89M|     112201306|yoomall 5M Antenn...|     Electronics|          5|            0|          0|   N|                Y|          Five Stars|       As described.| 2015-08-31|\n",
            "|         US|   49668221|R2HBOEM8LE9928|B000068O48|     734576678|Hosa GPM-103 3.5m...|     Electronics|          5|            0|          0|   N|                Y|It works as adver...|It works as adver...| 2015-08-31|\n",
            "|         US|   12338275|R1P4RW1R9FDPEE|B000GGKOG8|     614448099|Channel Master Ti...|     Electronics|          5|            1|          1|   N|                Y|          Five Stars|         Works pissa| 2015-08-31|\n",
            "|         US|   38487968|R1EBPM82ENI67M|B000NU4OTA|      72265257|LIMTECH Wall char...|     Electronics|          1|            0|          0|   N|                Y|            One Star|Did not work at all.| 2015-08-31|\n",
            "|         US|   23732619|R372S58V6D11AT|B00JOQIO6S|     308169188|Skullcandy Air Ra...|     Electronics|          5|            1|          1|   N|                Y|Overall pleased w...|Works well. Bass ...| 2015-08-31|\n",
            "|         US|   21257820|R1A4514XOYI1PD|B008NCD2LG|     976385982|Pioneer SP-BS22-L...|     Electronics|          5|            1|          1|   N|                Y|          Five Stars|The quality on th...| 2015-08-31|\n",
            "|         US|    3084991|R20D9EHB7N20V6|B00007FGUF|     670878953|C2G/Cables to Go ...|     Electronics|          5|            0|          0|   N|                Y|           Lifesaver|Wish I could give...| 2015-08-31|\n",
            "|         US|    8153674|R1WUTD8MVSROJU|B00M9V2RMM|     508452933|COOLEAD-HDMI Swit...|     Electronics|          5|            0|          0|   N|                Y|          Five Stars|         works great| 2015-08-31|\n",
            "|         US|   52246189|R1QCYLT25812DM|B00J3O9DYI|     766372886|Philips Wireless ...|     Electronics|          4|            0|          0|   N|                Y|          Four Stars|Great sound and c...| 2015-08-31|\n",
            "|         US|   41463864| R904DQPBCEM7A|B00NS1A0E4|     458130381|PlayStation 3 3D ...|     Electronics|          4|            0|          0|   N|                Y|          Four Stars|    It works well~~~| 2015-08-31|\n",
            "|         US|    2781942|R1DGA6UQIVLKZ7|B007B5V092|     152891509|JVC HAFR201A Xtre...|     Electronics|          5|            0|          0|   N|                Y|          Five Stars|           Alll good| 2015-08-31|\n",
            "|         US|     707292| RLQT3V8SMNIBH|B00IODHGVG|     717335277|Sylvania Alarm Cl...|     Electronics|          5|            0|          0|   N|                Y|          Five Stars|Love clock radio ...| 2015-08-31|\n",
            "|         US|   31463514|R3T9GZS2TMXZGM|B0035PBHX6|     249533961|Coby 8 GB 1.8-Inc...|     Electronics|          1|            0|          0|   N|                Y|            One Star|Breaks very easil...| 2015-08-31|\n",
            "|         US|   33475055|R24HVAEYP5PLDN|B00K1JJWFO|     635791633|Diamond (Original...|     Electronics|          5|            0|          1|   N|                Y|          Five Stars|Excellent gain in...| 2015-08-31|\n",
            "|         US|   16543871|R32KMAPNV5NJPJ|B00S3LJ5EA|     659360184|Kingvom 8gb 50 Ho...|     Electronics|          5|            0|          0|   N|                Y|          Five Stars|everything I expe...| 2015-08-31|\n",
            "|         US|   38472651| RC7VLPHUT6UAF|B00B5QNGN6|     564421014|JBL Ultra-Portabl...|     Electronics|          5|            0|          0|   N|                Y|          Five Stars|Love this small s...| 2015-08-31|\n",
            "|         US|   26946211|R3G1II8P4KGUAR|B00PLE8QF6|     685446417|YIPBOWPT Surface ...|     Electronics|          5|            0|          0|   N|                Y|       great product|works as advertis...| 2015-08-31|\n",
            "|         US|   10195727|R1UBFCBUALL6S5|B00GHUSIU6|     595255086|StarTech.com Mini...|     Electronics|          5|            0|          0|   N|                Y|          Five Stars|very good especia...| 2015-08-31|\n",
            "|         US|   47386264|R1WI5NISM6GAUG|B0045EJY90|     892920832|TEAC CD-P650-B Co...|     Electronics|          2|            4|          5|   N|                Y|It does not copy ...|It does not copy ...| 2015-08-31|\n",
            "|         US|   13000908|R27F4OF4BIA4LU|B003BT6BM8|     631236454|Philips SHS8100/2...|     Electronics|          2|            1|          1|   N|                Y|Did not last long...|Did not last long...| 2015-08-31|\n",
            "+-----------+-----------+--------------+----------+--------------+--------------------+----------------+-----------+-------------+-----------+----+-----------------+--------------------+--------------------+-----------+\n",
            "only showing top 20 rows\n",
            "\n"
          ],
          "name": "stdout"
        }
      ]
    },
    {
      "cell_type": "code",
      "metadata": {
        "id": "wJSVpvP6A2SL",
        "colab_type": "code",
        "outputId": "1aaa06d9-a49c-4652-9aab-1d1a9a437bf8",
        "colab": {
          "base_uri": "https://localhost:8080/",
          "height": 459
        }
      },
      "source": [
        "vine_e = e_data_df.select(\"review_id\", \"star_rating\", \"helpful_votes\", \"total_votes\", \"vine\")\n",
        "vine_e.show()"
      ],
      "execution_count": 0,
      "outputs": [
        {
          "output_type": "stream",
          "text": [
            "+--------------+-----------+-------------+-----------+----+\n",
            "|     review_id|star_rating|helpful_votes|total_votes|vine|\n",
            "+--------------+-----------+-------------+-----------+----+\n",
            "|R2MTG1GCZLR2DK|          5|            0|          0|   N|\n",
            "|R2HBOEM8LE9928|          5|            0|          0|   N|\n",
            "|R1P4RW1R9FDPEE|          5|            1|          1|   N|\n",
            "|R1EBPM82ENI67M|          1|            0|          0|   N|\n",
            "|R372S58V6D11AT|          5|            1|          1|   N|\n",
            "|R1A4514XOYI1PD|          5|            1|          1|   N|\n",
            "|R20D9EHB7N20V6|          5|            0|          0|   N|\n",
            "|R1WUTD8MVSROJU|          5|            0|          0|   N|\n",
            "|R1QCYLT25812DM|          4|            0|          0|   N|\n",
            "| R904DQPBCEM7A|          4|            0|          0|   N|\n",
            "|R1DGA6UQIVLKZ7|          5|            0|          0|   N|\n",
            "| RLQT3V8SMNIBH|          5|            0|          0|   N|\n",
            "|R3T9GZS2TMXZGM|          1|            0|          0|   N|\n",
            "|R24HVAEYP5PLDN|          5|            0|          1|   N|\n",
            "|R32KMAPNV5NJPJ|          5|            0|          0|   N|\n",
            "| RC7VLPHUT6UAF|          5|            0|          0|   N|\n",
            "|R3G1II8P4KGUAR|          5|            0|          0|   N|\n",
            "|R1UBFCBUALL6S5|          5|            0|          0|   N|\n",
            "|R1WI5NISM6GAUG|          2|            4|          5|   N|\n",
            "|R27F4OF4BIA4LU|          2|            1|          1|   N|\n",
            "+--------------+-----------+-------------+-----------+----+\n",
            "only showing top 20 rows\n",
            "\n"
          ],
          "name": "stdout"
        }
      ]
    },
    {
      "cell_type": "code",
      "metadata": {
        "id": "IZ0Sk0nVMnP_",
        "colab_type": "code",
        "outputId": "76257b67-a2f5-47b8-8b2d-eef95b9a2807",
        "colab": {
          "base_uri": "https://localhost:8080/",
          "height": 34
        }
      },
      "source": [
        "vine_e.count()"
      ],
      "execution_count": 0,
      "outputs": [
        {
          "output_type": "execute_result",
          "data": {
            "text/plain": [
              "3093869"
            ]
          },
          "metadata": {
            "tags": []
          },
          "execution_count": 55
        }
      ]
    },
    {
      "cell_type": "code",
      "metadata": {
        "id": "XzYDsMStCElv",
        "colab_type": "code",
        "colab": {}
      },
      "source": [
        "from pyspark.sql.types import IntegerType, DateType, BooleanType\n",
        "e_bool_df = e_data_df.withColumn(\"vine\", e_data_df[\"vine\"].cast(BooleanType()))"
      ],
      "execution_count": 0,
      "outputs": []
    },
    {
      "cell_type": "code",
      "metadata": {
        "id": "oPcedmSjGcGA",
        "colab_type": "code",
        "outputId": "33c3f90d-5dc3-4708-f520-362a27fc62c2",
        "colab": {
          "base_uri": "https://localhost:8080/",
          "height": 459
        }
      },
      "source": [
        "vine_e = e_bool_df.select(\"review_id\", \"star_rating\", \"helpful_votes\", \"total_votes\", \"vine\")\n",
        "vine_e.show()"
      ],
      "execution_count": 0,
      "outputs": [
        {
          "output_type": "stream",
          "text": [
            "+--------------+-----------+-------------+-----------+-----+\n",
            "|     review_id|star_rating|helpful_votes|total_votes| vine|\n",
            "+--------------+-----------+-------------+-----------+-----+\n",
            "|R2MTG1GCZLR2DK|          5|            0|          0|false|\n",
            "|R2HBOEM8LE9928|          5|            0|          0|false|\n",
            "|R1P4RW1R9FDPEE|          5|            1|          1|false|\n",
            "|R1EBPM82ENI67M|          1|            0|          0|false|\n",
            "|R372S58V6D11AT|          5|            1|          1|false|\n",
            "|R1A4514XOYI1PD|          5|            1|          1|false|\n",
            "|R20D9EHB7N20V6|          5|            0|          0|false|\n",
            "|R1WUTD8MVSROJU|          5|            0|          0|false|\n",
            "|R1QCYLT25812DM|          4|            0|          0|false|\n",
            "| R904DQPBCEM7A|          4|            0|          0|false|\n",
            "|R1DGA6UQIVLKZ7|          5|            0|          0|false|\n",
            "| RLQT3V8SMNIBH|          5|            0|          0|false|\n",
            "|R3T9GZS2TMXZGM|          1|            0|          0|false|\n",
            "|R24HVAEYP5PLDN|          5|            0|          1|false|\n",
            "|R32KMAPNV5NJPJ|          5|            0|          0|false|\n",
            "| RC7VLPHUT6UAF|          5|            0|          0|false|\n",
            "|R3G1II8P4KGUAR|          5|            0|          0|false|\n",
            "|R1UBFCBUALL6S5|          5|            0|          0|false|\n",
            "|R1WI5NISM6GAUG|          2|            4|          5|false|\n",
            "|R27F4OF4BIA4LU|          2|            1|          1|false|\n",
            "+--------------+-----------+-------------+-----------+-----+\n",
            "only showing top 20 rows\n",
            "\n"
          ],
          "name": "stdout"
        }
      ]
    },
    {
      "cell_type": "code",
      "metadata": {
        "id": "H-4CGOyMGiwE",
        "colab_type": "code",
        "outputId": "f3a2ba21-d8a7-4cad-e332-1da9c8319326",
        "colab": {
          "base_uri": "https://localhost:8080/",
          "height": 459
        }
      },
      "source": [
        "vine_e_true = vine_e.filter(vine_e['vine'] == True)\n",
        "vine_e_true.show()"
      ],
      "execution_count": 0,
      "outputs": [
        {
          "output_type": "stream",
          "text": [
            "+--------------+-----------+-------------+-----------+----+\n",
            "|     review_id|star_rating|helpful_votes|total_votes|vine|\n",
            "+--------------+-----------+-------------+-----------+----+\n",
            "|R1T7X1RPWYTRBU|          5|            2|          4|true|\n",
            "| RJFGZBIFXCC65|          5|            0|          0|true|\n",
            "| RSZ6RLTTGWUN6|          5|            0|          1|true|\n",
            "|R2N4GVP3Q5PF9Y|          3|            2|          3|true|\n",
            "| RCAFL1X52MFZM|          5|            1|          2|true|\n",
            "|R17D8E4KO0FS83|          5|            1|          1|true|\n",
            "|R184FOUNZZ7KO8|          5|           15|         20|true|\n",
            "|R2SP52AJMIERZ5|          3|            0|          0|true|\n",
            "|R15VB3EZ2C0W3J|          4|            0|          0|true|\n",
            "|R3CMY924EQEGIU|          4|            0|          0|true|\n",
            "|R2T1AAO75DGP6C|          4|            0|          0|true|\n",
            "|R2AYZV2RYCKIDO|          4|            1|          1|true|\n",
            "|R3BEI48BY6XIRV|          3|            0|          0|true|\n",
            "|R2PLGJM0MUI41A|          5|            1|          2|true|\n",
            "|R3PRKX2K7HFARK|          4|            0|          0|true|\n",
            "|R261AQP6TBDXZK|          3|            0|          0|true|\n",
            "|R2B2RYH8VXXFNO|          5|            9|         10|true|\n",
            "|R2WMMK2LY6SJV3|          3|            2|          3|true|\n",
            "|R3U42JCRW1PCUN|          3|            3|          7|true|\n",
            "|R3JLX3WLHL46OD|          5|           11|         13|true|\n",
            "+--------------+-----------+-------------+-----------+----+\n",
            "only showing top 20 rows\n",
            "\n"
          ],
          "name": "stdout"
        }
      ]
    },
    {
      "cell_type": "code",
      "metadata": {
        "id": "Hxw6P9XtKQ10",
        "colab_type": "code",
        "outputId": "e6d32bf5-0595-45a1-e268-69ac03ffe8ec",
        "colab": {
          "base_uri": "https://localhost:8080/",
          "height": 459
        }
      },
      "source": [
        "vine_e_false = vine_e.filter(vine_e['vine'] == False)\n",
        "vine_e_false.show()"
      ],
      "execution_count": 0,
      "outputs": [
        {
          "output_type": "stream",
          "text": [
            "+--------------+-----------+-------------+-----------+-----+\n",
            "|     review_id|star_rating|helpful_votes|total_votes| vine|\n",
            "+--------------+-----------+-------------+-----------+-----+\n",
            "|R2MTG1GCZLR2DK|          5|            0|          0|false|\n",
            "|R2HBOEM8LE9928|          5|            0|          0|false|\n",
            "|R1P4RW1R9FDPEE|          5|            1|          1|false|\n",
            "|R1EBPM82ENI67M|          1|            0|          0|false|\n",
            "|R372S58V6D11AT|          5|            1|          1|false|\n",
            "|R1A4514XOYI1PD|          5|            1|          1|false|\n",
            "|R20D9EHB7N20V6|          5|            0|          0|false|\n",
            "|R1WUTD8MVSROJU|          5|            0|          0|false|\n",
            "|R1QCYLT25812DM|          4|            0|          0|false|\n",
            "| R904DQPBCEM7A|          4|            0|          0|false|\n",
            "|R1DGA6UQIVLKZ7|          5|            0|          0|false|\n",
            "| RLQT3V8SMNIBH|          5|            0|          0|false|\n",
            "|R3T9GZS2TMXZGM|          1|            0|          0|false|\n",
            "|R24HVAEYP5PLDN|          5|            0|          1|false|\n",
            "|R32KMAPNV5NJPJ|          5|            0|          0|false|\n",
            "| RC7VLPHUT6UAF|          5|            0|          0|false|\n",
            "|R3G1II8P4KGUAR|          5|            0|          0|false|\n",
            "|R1UBFCBUALL6S5|          5|            0|          0|false|\n",
            "|R1WI5NISM6GAUG|          2|            4|          5|false|\n",
            "|R27F4OF4BIA4LU|          2|            1|          1|false|\n",
            "+--------------+-----------+-------------+-----------+-----+\n",
            "only showing top 20 rows\n",
            "\n"
          ],
          "name": "stdout"
        }
      ]
    },
    {
      "cell_type": "code",
      "metadata": {
        "id": "9QyOAF4CII6U",
        "colab_type": "code",
        "outputId": "1b307e25-c4fe-4d4b-e6e7-0cff1582b564",
        "colab": {
          "base_uri": "https://localhost:8080/",
          "height": 34
        }
      },
      "source": [
        "vine_e.filter(vine_e['vine'] == True).count()"
      ],
      "execution_count": 0,
      "outputs": [
        {
          "output_type": "execute_result",
          "data": {
            "text/plain": [
              "18512"
            ]
          },
          "metadata": {
            "tags": []
          },
          "execution_count": 29
        }
      ]
    },
    {
      "cell_type": "code",
      "metadata": {
        "id": "_wjJ-9RdJttt",
        "colab_type": "code",
        "outputId": "306e5980-9e05-4556-ff6a-9ead4d586580",
        "colab": {
          "base_uri": "https://localhost:8080/",
          "height": 34
        }
      },
      "source": [
        "vine_e.filter(vine_e['vine'] == False).count()"
      ],
      "execution_count": 0,
      "outputs": [
        {
          "output_type": "execute_result",
          "data": {
            "text/plain": [
              "3075349"
            ]
          },
          "metadata": {
            "tags": []
          },
          "execution_count": 35
        }
      ]
    },
    {
      "cell_type": "code",
      "metadata": {
        "id": "S_VNfLVUHQrz",
        "colab_type": "code",
        "colab": {}
      },
      "source": [
        "vine_e.filter(vine_e['star_rating'] == \"5\").show()"
      ],
      "execution_count": 0,
      "outputs": []
    },
    {
      "cell_type": "code",
      "metadata": {
        "id": "Vr8hmhNOH43s",
        "colab_type": "code",
        "outputId": "1d746386-0f0b-4d95-aef0-c2fa3eb87f53",
        "colab": {
          "base_uri": "https://localhost:8080/",
          "height": 34
        }
      },
      "source": [
        "vine_e_true.filter(vine_e_true['star_rating'] == \"5\").count()"
      ],
      "execution_count": 0,
      "outputs": [
        {
          "output_type": "execute_result",
          "data": {
            "text/plain": [
              "8044"
            ]
          },
          "metadata": {
            "tags": []
          },
          "execution_count": 34
        }
      ]
    },
    {
      "cell_type": "code",
      "metadata": {
        "id": "jkKmFOehKevc",
        "colab_type": "code",
        "outputId": "889cc32e-7992-49cf-ddde-7e07c58df679",
        "colab": {
          "base_uri": "https://localhost:8080/",
          "height": 34
        }
      },
      "source": [
        "vine_e_false.filter(vine_e_false['star_rating'] == \"5\").count()"
      ],
      "execution_count": 0,
      "outputs": [
        {
          "output_type": "execute_result",
          "data": {
            "text/plain": [
              "1773112"
            ]
          },
          "metadata": {
            "tags": []
          },
          "execution_count": 44
        }
      ]
    },
    {
      "cell_type": "code",
      "metadata": {
        "id": "-jNEapGRA2db",
        "colab_type": "code",
        "outputId": "f1fec806-1852-48c5-f4bd-89aacde96fc2",
        "colab": {
          "base_uri": "https://localhost:8080/",
          "height": 479
        }
      },
      "source": [
        "# Read in data from S3 Buckets\n",
        "from pyspark import SparkFiles\n",
        "url = \"https://s3.amazonaws.com/amazon-reviews-pds/tsv/amazon_reviews_us_Digital_Video_Games_v1_00.tsv.gz\"\n",
        "spark.sparkContext.addFile(url)\n",
        "vg_data_df = spark.read.csv(SparkFiles.get(\"amazon_reviews_us_Digital_Video_Games_v1_00.tsv.gz\"), sep=\"\\t\", header=True)\n",
        "vg_data_df.show()"
      ],
      "execution_count": 0,
      "outputs": [
        {
          "output_type": "stream",
          "text": [
            "+-----------+-----------+--------------+----------+--------------+--------------------+-------------------+-----------+-------------+-----------+----+-----------------+--------------------+--------------------+-----------+\n",
            "|marketplace|customer_id|     review_id|product_id|product_parent|       product_title|   product_category|star_rating|helpful_votes|total_votes|vine|verified_purchase|     review_headline|         review_body|review_date|\n",
            "+-----------+-----------+--------------+----------+--------------+--------------------+-------------------+-----------+-------------+-----------+----+-----------------+--------------------+--------------------+-----------+\n",
            "|         US|   21269168| RSH1OZ87OYK92|B013PURRZW|     603406193|Madden NFL 16 - X...|Digital_Video_Games|          2|            2|          3|   N|                N|A slight improvem...|I keep buying mad...| 2015-08-31|\n",
            "|         US|     133437|R1WFOQ3N9BO65I|B00F4CEHNK|     341969535| Xbox Live Gift Card|Digital_Video_Games|          5|            0|          0|   N|                Y|          Five Stars|             Awesome| 2015-08-31|\n",
            "|         US|   45765011| R3YOOS71KM5M9|B00DNHLFQA|     951665344|Command & Conquer...|Digital_Video_Games|          5|            0|          0|   N|                Y|Hail to the great...|If you are preppi...| 2015-08-31|\n",
            "|         US|     113118|R3R14UATT3OUFU|B004RMK5QG|     395682204|Playstation Plus ...|Digital_Video_Games|          5|            0|          0|   N|                Y|          Five Stars|             Perfect| 2015-08-31|\n",
            "|         US|   22151364| RV2W9SGDNQA2C|B00G9BNLQE|     640460561|Saints Row IV - E...|Digital_Video_Games|          5|            0|          0|   N|                Y|          Five Stars|            Awesome!| 2015-08-31|\n",
            "|         US|   22151364|R3CFKLIZ0I2KOB|B00IMIL498|     621922192|Double Dragon: Ne...|Digital_Video_Games|          5|            0|          0|   N|                Y|          Five Stars|            Awesome!| 2015-08-31|\n",
            "|         US|   38426028|R1LRYU1V0T3O38|B00S00IJH8|     215163395|              Sims 4|Digital_Video_Games|          4|            0|          0|   N|                Y|i like the new sk...|i like the new sk...| 2015-08-31|\n",
            "|         US|    6057518| R44QKV6FE5CJ2|B004RMK4BC|     384246568|Playstation Netwo...|Digital_Video_Games|          5|            0|          0|   N|                Y|          Five Stars|               Super| 2015-08-31|\n",
            "|         US|   20715661|R2TX1KLPXXXNYS|B00K59HKIQ|     384246568|Playstation Netwo...|Digital_Video_Games|          5|            0|          0|   N|                Y|         Easy & Fast|Excellent, fast a...| 2015-08-31|\n",
            "|         US|   26540306|R1JEEW4C6R89BA|B00K59HKIQ|     384246568|Playstation Netwo...|Digital_Video_Games|          5|            0|          0|   N|                Y|          Five Stars|                  Ok| 2015-08-31|\n",
            "|         US|    8926809|R3B3UHK1FO0ERS|B004774IPU|     151985175|Sid Meier's Civil...|Digital_Video_Games|          1|            0|          0|   N|                N|I am still playin...|As has been writt...| 2015-08-31|\n",
            "|         US|   31525534|R2GVSDHW513SS1|B002LIT9EC|     695277014|Build-a-lot 4: Po...|Digital_Video_Games|          5|            0|          0|   N|                Y|Probably the best...|Probably the best...| 2015-08-31|\n",
            "|         US|   22151364|R1R1NT516PYT73|B008ALUBYQ|     112160022|       Borderlands 2|Digital_Video_Games|          5|            0|          0|   N|                Y|          Five Stars|            Awesome!| 2015-08-31|\n",
            "|         US|   22977584|R3K624QDQKENN9|B010KYDNDG|     835376637|Minecraft for PC/...|Digital_Video_Games|          4|            0|          0|   N|                Y|                 FUN|COOL BUT IT LAGES...| 2015-08-31|\n",
            "|         US|   45765011| R1FOXH7PCJX3V|B008ALUBYQ|     112160022|       Borderlands 2|Digital_Video_Games|          1|            0|          2|   N|                Y|            One Star|Lames purchase I ...| 2015-08-31|\n",
            "|         US|    2239522| RA1246M1OMDWC|B004RMK4P8|     384246568|Playstation Netwo...|Digital_Video_Games|          5|            0|          0|   N|                Y|          Five Stars|               Great| 2015-08-31|\n",
            "|         US|   48805811|R2I9SXWB0PAEKQ|B004RMK5QG|     395682204|Playstation Plus ...|Digital_Video_Games|          5|            0|          0|   N|                Y|          Five Stars|          Awesome!!!| 2015-08-31|\n",
            "|         US|   18646481|R3UGL544NA0G9C|B00BI16Z22|     552981447|Brink of Consciou...|Digital_Video_Games|          4|            0|          0|   N|                Y|       worth playing|pretty good but n...| 2015-08-31|\n",
            "|         US|   10310935|R1CBA4Y92GVAVM|B004VSTQ2A|     232803743|Xbox Live Subscri...|Digital_Video_Games|          5|            0|          0|   N|                Y|          Five Stars|What can I say......| 2015-08-31|\n",
            "|         US|    5587610|R24NEKNR01VEHU|B00GAC1D2G|     384246568|Playstation Netwo...|Digital_Video_Games|          5|            0|          0|   N|                Y|        Just amazing|Very fast to rece...| 2015-08-31|\n",
            "+-----------+-----------+--------------+----------+--------------+--------------------+-------------------+-----------+-------------+-----------+----+-----------------+--------------------+--------------------+-----------+\n",
            "only showing top 20 rows\n",
            "\n"
          ],
          "name": "stdout"
        }
      ]
    },
    {
      "cell_type": "code",
      "metadata": {
        "id": "AcZruChrEP4H",
        "colab_type": "code",
        "colab": {}
      },
      "source": [
        "vg_bool_df = vg_data_df.withColumn(\"vine\", vg_data_df[\"vine\"].cast(BooleanType()))"
      ],
      "execution_count": 0,
      "outputs": []
    },
    {
      "cell_type": "code",
      "metadata": {
        "id": "yGaisr4BBAyD",
        "colab_type": "code",
        "outputId": "bc1ffa7b-d5ed-406c-cd28-be3f55155f74",
        "colab": {
          "base_uri": "https://localhost:8080/",
          "height": 459
        }
      },
      "source": [
        "vine_vg = vg_bool_df.select(\"review_id\", \"star_rating\", \"helpful_votes\", \"total_votes\", \"vine\")\n",
        "vine_vg.show()"
      ],
      "execution_count": 0,
      "outputs": [
        {
          "output_type": "stream",
          "text": [
            "+--------------+-----------+-------------+-----------+-----+\n",
            "|     review_id|star_rating|helpful_votes|total_votes| vine|\n",
            "+--------------+-----------+-------------+-----------+-----+\n",
            "| RSH1OZ87OYK92|          2|            2|          3|false|\n",
            "|R1WFOQ3N9BO65I|          5|            0|          0|false|\n",
            "| R3YOOS71KM5M9|          5|            0|          0|false|\n",
            "|R3R14UATT3OUFU|          5|            0|          0|false|\n",
            "| RV2W9SGDNQA2C|          5|            0|          0|false|\n",
            "|R3CFKLIZ0I2KOB|          5|            0|          0|false|\n",
            "|R1LRYU1V0T3O38|          4|            0|          0|false|\n",
            "| R44QKV6FE5CJ2|          5|            0|          0|false|\n",
            "|R2TX1KLPXXXNYS|          5|            0|          0|false|\n",
            "|R1JEEW4C6R89BA|          5|            0|          0|false|\n",
            "|R3B3UHK1FO0ERS|          1|            0|          0|false|\n",
            "|R2GVSDHW513SS1|          5|            0|          0|false|\n",
            "|R1R1NT516PYT73|          5|            0|          0|false|\n",
            "|R3K624QDQKENN9|          4|            0|          0|false|\n",
            "| R1FOXH7PCJX3V|          1|            0|          2|false|\n",
            "| RA1246M1OMDWC|          5|            0|          0|false|\n",
            "|R2I9SXWB0PAEKQ|          5|            0|          0|false|\n",
            "|R3UGL544NA0G9C|          4|            0|          0|false|\n",
            "|R1CBA4Y92GVAVM|          5|            0|          0|false|\n",
            "|R24NEKNR01VEHU|          5|            0|          0|false|\n",
            "+--------------+-----------+-------------+-----------+-----+\n",
            "only showing top 20 rows\n",
            "\n"
          ],
          "name": "stdout"
        }
      ]
    },
    {
      "cell_type": "code",
      "metadata": {
        "id": "3VA-EZ1ACFRT",
        "colab_type": "code",
        "outputId": "e53c2bf8-15e1-463c-bc81-2b2a6f51b850",
        "colab": {
          "base_uri": "https://localhost:8080/",
          "height": 102
        }
      },
      "source": [
        "vine_vg.filter(vine_vg['vine'] == True).show()"
      ],
      "execution_count": 0,
      "outputs": [
        {
          "output_type": "stream",
          "text": [
            "+---------+-----------+-------------+-----------+----+\n",
            "|review_id|star_rating|helpful_votes|total_votes|vine|\n",
            "+---------+-----------+-------------+-----------+----+\n",
            "+---------+-----------+-------------+-----------+----+\n",
            "\n"
          ],
          "name": "stdout"
        }
      ]
    },
    {
      "cell_type": "markdown",
      "metadata": {
        "id": "90e7qLf9BkJW",
        "colab_type": "text"
      },
      "source": [
        "#**Are Vine Reviews Bias?**\n",
        "\n",
        "### Two amazon product review datasets were analyzed for positive review bias from vine reviews. One of the datasets consisted of electronic product reviews, while the second dataset consisted of video game reviews. The video game dataset did not have any vine reviews in it, leaving no bias of vine reviews by defualt. The electronic dataset had a total of 18,512 vine reviews, accounting for 0.6% of the reviews in the dataset. The other 94% of the data is regualr reviews. Within the small number of vine reviews 43% of them gave the product a five star review, compared to the regular reviewers who gave out five stars 58% of the time. \n",
        "### It has been established that vine reviews are rare, but do not show positive review bias. Vine reviewers are less likely to rate a product with five stars then thier regualr counter-parts. \n",
        "---\n",
        "\n"
      ]
    }
  ]
}