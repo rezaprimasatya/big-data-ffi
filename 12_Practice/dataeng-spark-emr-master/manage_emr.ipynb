{
 "cells": [
  {
   "cell_type": "markdown",
   "metadata": {
    "editable": true
   },
   "source": [
    "# Manage EMR Instance and Jobs"
   ]
  },
  {
   "cell_type": "markdown",
   "metadata": {
    "editable": true
   },
   "source": [
    "__WHY?__ Use this notebook to set up EMR cluster, manage executions and terminate clusters programmaticaly, without going to AWS UI"
   ]
  },
  {
   "cell_type": "markdown",
   "metadata": {
    "editable": true
   },
   "source": [
    "__IMPORTANT!__ Always terminate cluster when done (see end of page)"
   ]
  },
  {
   "cell_type": "markdown",
   "metadata": {
    "editable": true
   },
   "source": [
    "#### 1. Load AWS Configs"
   ]
  },
  {
   "cell_type": "code",
   "execution_count": null,
   "metadata": {
    "editable": true
   },
   "outputs": [],
   "source": [
    "import configparser\n",
    "config = configparser.ConfigParser()\n",
    "config.read_file(open('dl.cfg'))\n",
    "\n",
    "KEY = config.get('AWS', 'AWS_ACCESS_KEY_ID')\n",
    "SECRET = config.get('AWS','AWS_SECRET_ACCESS_KEY')\n",
    "\n",
    "OUTPUT_DATA = config.get('AWS','OUTPUT_DATA')"
   ]
  },
  {
   "cell_type": "code",
   "execution_count": null,
   "metadata": {
    "editable": true
   },
   "outputs": [],
   "source": [
    "import os\n",
    "os.environ[\"AWS_ACCESS_KEY_ID\"]= KEY\n",
    "os.environ[\"AWS_SECRET_ACCESS_KEY\"]= SECRET\n",
    "os.environ[\"AWS_DEFAULT_REGION\"]=\"us-west-2\""
   ]
  },
  {
   "cell_type": "markdown",
   "metadata": {
    "editable": true
   },
   "source": [
    "#### 2. Create EMR Cluster via CLI"
   ]
  },
  {
   "cell_type": "code",
   "execution_count": null,
   "metadata": {
    "editable": true
   },
   "outputs": [],
   "source": [
    "!aws emr create-cluster --name udacity-project\\\n",
    "    --release-label emr-6.2.0 \\\n",
    "    --applications Name=Spark \\\n",
    "    --instance-count 5 \\\n",
    "    --use-default-roles \\\n",
    "    --no-auto-terminate \\\n",
    "    --instance-type m5.xlarge \\\n",
    "    --no-enable-debugging \\\n",
    "    --ec2-attributes KeyName=\"emr_udacity\""
   ]
  },
  {
   "cell_type": "markdown",
   "metadata": {
    "editable": true
   },
   "source": [
    "#### Create EMR Cluster using Boto3\n",
    "\n",
    "For Boto 3 cluster setup [see link](https://stackoverflow.com/questions/26314316/how-to-launch-and-configure-an-emr-cluster-using-boto)"
   ]
  },
  {
   "cell_type": "markdown",
   "metadata": {
    "editable": true
   },
   "source": [
    "#### 2.1 List standby clusters"
   ]
  },
  {
   "cell_type": "code",
   "execution_count": null,
   "metadata": {
    "editable": true
   },
   "outputs": [],
   "source": [
    "import boto3\n",
    "emr = boto3.client( 'emr', \n",
    "                   aws_access_key_id=KEY,\n",
    "                   aws_secret_access_key=SECRET, \n",
    "                   region_name='us-west-2')"
   ]
  },
  {
   "cell_type": "code",
   "execution_count": null,
   "metadata": {
    "editable": true
   },
   "outputs": [],
   "source": [
    "starting_clusters = emr.list_clusters( ClusterStates=['STARTING'] )\n",
    "starting_clusters"
   ]
  },
  {
   "cell_type": "markdown",
   "metadata": {
    "editable": true
   },
   "source": [
    "#### 3. S3 client"
   ]
  },
  {
   "cell_type": "code",
   "execution_count": null,
   "metadata": {
    "editable": true
   },
   "outputs": [],
   "source": [
    "import boto3\n",
    "s3 = boto3.client( 's3', \n",
    "                   aws_access_key_id=KEY,\n",
    "                   aws_secret_access_key=SECRET, \n",
    "                   region_name='us-west-2')"
   ]
  },
  {
   "cell_type": "markdown",
   "metadata": {
    "editable": true
   },
   "source": [
    "3.1 Get EMR active S3 bucket"
   ]
  },
  {
   "cell_type": "code",
   "execution_count": null,
   "metadata": {
    "editable": true
   },
   "outputs": [],
   "source": [
    "# find udacity bucket\n",
    "emr_bucket = [entry['Name'] for entry in s3.list_buckets()['Buckets'] if 'udacity' in entry['Name']  ]\n",
    "emr_bucket"
   ]
  },
  {
   "cell_type": "markdown",
   "metadata": {
    "editable": true
   },
   "source": [
    "3.2 Upload \"etl.py\" process file"
   ]
  },
  {
   "cell_type": "code",
   "execution_count": null,
   "metadata": {
    "editable": true
   },
   "outputs": [],
   "source": [
    "s3.upload_file( 'etl.py', emr_bucket[0], 'etl.py' )\n",
    "s3.upload_file( 'dl.cfg', emr_bucket[0], 'dl.cfg' )"
   ]
  },
  {
   "cell_type": "code",
   "execution_count": null,
   "metadata": {
    "editable": true
   },
   "outputs": [],
   "source": [
    "# verify if there is and 'etl.py' file in my s3 bucket\n",
    "[entry for entry in s3.list_objects(Bucket = emr_bucket[0] )['Contents'] if 'etl.py' in entry['Key'] ]"
   ]
  },
  {
   "cell_type": "markdown",
   "metadata": {
    "editable": true
   },
   "source": [
    "3.3 Add Job Step to process ETL"
   ]
  },
  {
   "cell_type": "code",
   "execution_count": null,
   "metadata": {
    "editable": true
   },
   "outputs": [],
   "source": [
    "# load waiting cluster to add step to\n",
    "waiting_clusters = [cluster['Id'] for cluster in emr.list_clusters()['Clusters'] if cluster['Status']['State'] == 'WAITING']\n",
    "waiting_clusters"
   ]
  },
  {
   "cell_type": "code",
   "execution_count": null,
   "metadata": {
    "editable": true
   },
   "outputs": [],
   "source": [
    "# add step to waiting cluster\n",
    "response = emr.add_job_flow_steps(\n",
    "    JobFlowId = waiting_clusters[0],\n",
    "    Steps=[\n",
    "        {\n",
    "            'Name': 'Spark from boto3',\n",
    "            'ActionOnFailure': 'CANCEL_AND_WAIT',\n",
    "            'HadoopJarStep': {\n",
    "                'Jar': 'command-runner.jar',\n",
    "                'Args': [\n",
    "                    'spark-submit',\n",
    "                     '--deploy-mode',\n",
    "                     'cluster',\n",
    "                     '--master',\n",
    "                     'yarn',\n",
    "                     OUTPUT_DATA + 'etl.py'\n",
    "                ]\n",
    "            }\n",
    "        },\n",
    "    ]\n",
    ")\n",
    "response"
   ]
  },
  {
   "cell_type": "code",
   "execution_count": null,
   "metadata": {
    "editable": true
   },
   "outputs": [],
   "source": [
    "# Check steps running on cluster \n",
    "[ step for step in emr.list_steps( ClusterId = waiting_clusters[0] )['Steps'] if step['Status']['State'] == 'RUNNING' ]"
   ]
  },
  {
   "cell_type": "markdown",
   "metadata": {
    "editable": true
   },
   "source": [
    "#### 4. Delete standby clusters"
   ]
  },
  {
   "cell_type": "markdown",
   "metadata": {
    "editable": true
   },
   "source": [
    "__IMPORTANT__: Always run following steps. Guarantee cluster terminated after testing"
   ]
  },
  {
   "cell_type": "code",
   "execution_count": null,
   "metadata": {
    "editable": true
   },
   "outputs": [],
   "source": [
    "# including RUNNING and WAITING clusters\n",
    "standby_clusters = emr.list_clusters( ClusterStates=['RUNNING', 'WAITING'] )\n",
    "\n",
    "clusters = []\n",
    "for cluster in standby_clusters[\"Clusters\"] : \n",
    "    clusters.append( cluster[\"Id\"] )\n",
    "    \n",
    "print( \"Nr clusters: {}\".format( len(clusters) ))"
   ]
  },
  {
   "cell_type": "code",
   "execution_count": null,
   "metadata": {
    "editable": true
   },
   "outputs": [],
   "source": [
    "if len(clusters) > 0 :\n",
    "    emr.terminate_job_flows(\n",
    "        JobFlowIds = clusters\n",
    "    )\n",
    "    print( \"Terminating Clusters\" )\n",
    "else: \n",
    "    print( \"No clusters found.\" )"
   ]
  }
 ],
 "metadata": {
  "kernelspec": {
   "display_name": "Python 3",
   "language": "python",
   "name": "python3"
  },
  "language_info": {
   "codemirror_mode": {
    "name": "ipython",
    "version": 3
   },
   "file_extension": ".py",
   "mimetype": "text/x-python",
   "name": "python",
   "nbconvert_exporter": "python",
   "pygments_lexer": "ipython3",
   "version": "3.6.3"
  }
 },
 "nbformat": 4,
 "nbformat_minor": 4
}
